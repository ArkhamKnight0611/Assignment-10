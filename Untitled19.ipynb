{
  "nbformat": 4,
  "nbformat_minor": 0,
  "metadata": {
    "colab": {
      "provenance": []
    },
    "kernelspec": {
      "name": "python3",
      "display_name": "Python 3"
    },
    "language_info": {
      "name": "python"
    }
  },
  "cells": [
    {
      "cell_type": "code",
      "execution_count": 1,
      "metadata": {
        "id": "GjvmXU-a55IG"
      },
      "outputs": [],
      "source": [
        "# A database is an organized collection of structured information, or data, typically stored electronically in a computer system.\n",
        "# A database is usually controlled by a database management system (DBMS).\n",
        "\n",
        "# SQL is a domain-specific language used to query and manage data.\n",
        "# It works by allowing users to query, insert, delete, and update records in relational databases.\n",
        "# SQL also allows for complex logic to be applied through the use of transactions and embedded procedures such as stored functions or views.\n",
        "\n",
        "# NoSQL stands for Not only SQL.\n",
        "# It is a type of database that uses non-relational data structures, such as documents, graph databases, and key-value stores to store and retrieve data.\n",
        "# NoSQL systems are designed to be more flexible than traditional relational databases and can scale up or down easily to accommodate changes in usage or load.\n",
        "# This makes them ideal for use in applications"
      ]
    },
    {
      "cell_type": "code",
      "source": [
        "# Data Definition Language(DDL) is a subset of SQL and a part of DBMS(Database Management System).\n",
        "# DDL consist of Commands to commands like CREATE, ALTER, TRUNCATE and DROP.\n",
        "# These commands are used to create or modify the tables in SQL.\n",
        "\n",
        "# CREATE :\n",
        "# This command is used to create a new table in SQL. The user has to give information like table name, column names, and their datatypes.\n",
        "\n",
        "# ALTER :\n",
        "# This command is used to add, delete or change columns in the existing table.\n",
        "# The user needs to know the existing table name and can do add, delete or modify tasks easily.\n",
        "\n",
        "# TRUNCATE :\n",
        "# This command is used to remove all rows from the table, but the structure of the table still exists.\n",
        "\n",
        "# DROP :\n",
        "# This command is used to remove an existing table along with its structure from the Database."
      ],
      "metadata": {
        "id": "ITUCH2fM7bKm"
      },
      "execution_count": null,
      "outputs": []
    },
    {
      "cell_type": "code",
      "source": [
        "# DML It is a dialect which is used to select, insert, delete and update data in a database.\n",
        "# This command is used to get data out of the database. It helps users of the database to access from an operating system, the significant data they need.\n",
        "# It sends a track result set from one tables or more.\n",
        "\n",
        "# SELECT Command –\n",
        "# This command is used to get data out of the database.\n",
        "# It helps users of the database to access from an operating system, the significant data they need.\n",
        "# It sends a track result set from one tables or more.\n",
        "\n",
        "# INSERT Command –\n",
        "# This command is used to enter the information or values into a row.\n",
        "# We can connect one or more records to a single table within a repository using this instruction.\n",
        "# This is often used to connect an unused tag to the documents.\n",
        "\n",
        "# UPDATE Command –\n",
        "# This command is used to alter existing table records.\n",
        "# Within a table, it modifies data from one or more records.\n",
        "# This command is used to alter the data which is already present in a table.\n",
        "\n",
        "# DELETE Command –\n",
        "# It deletes all archives from a table. This command is used to erase some or all of the previous table’s records.\n",
        "# If we do not specify the ‘WHERE’ condition then all the rows would be erased or deleted."
      ],
      "metadata": {
        "id": "S_dyG7SR8Tn7"
      },
      "execution_count": 2,
      "outputs": []
    },
    {
      "cell_type": "code",
      "source": [
        "# DQL statements are used for performing queries on the data within schema objects.\n",
        "# The purpose of the DQL Command is to get some schema relation based on the query passed to it.\n",
        "# We can define DQL as follows it is a component of SQL statement that allows getting data from the database and imposing order upon it.\n",
        "# It includes the SELECT statement. This command allows getting the data out of the database to perform operations with it.\n",
        "# When a SELECT is fired against a table or tables the result is compiled into a further temporary table, which is displayed or perhaps received by the program i.e. a front-end."
      ],
      "metadata": {
        "id": "4Je6pNRc_ctX"
      },
      "execution_count": 3,
      "outputs": []
    },
    {
      "cell_type": "code",
      "source": [
        "# A primary key is used to ensure data in the specific column is unique.\n",
        "# A foreign key is a column or group of columns in a relational database table that provides a link between data in two tables."
      ],
      "metadata": {
        "id": "-QBmI1Gx_3U6"
      },
      "execution_count": 4,
      "outputs": []
    },
    {
      "cell_type": "code",
      "source": [
        "\"\"\" Query order of execution\n",
        "1. FROM and JOINs\n",
        "The FROM clause, and subsequent JOINs are first executed to determine the total working set of data that is being queried. This includes subqueries in this clause, and can cause temporary tables to be created under the hood containing all the columns and rows of the tables being joined.\n",
        "\n",
        "2. WHERE\n",
        "Once we have the total working set of data, the first-pass WHERE constraints are applied to the individual rows, and rows that do not satisfy the constraint are discarded. Each of the constraints can only access columns directly from the tables requested in the FROM clause. Aliases in the SELECT part of the query are not accessible in most databases since they may include expressions dependent on parts of the query that have not yet executed.\n",
        "\n",
        "3. GROUP BY\n",
        "The remaining rows after the WHERE constraints are applied are then grouped based on common values in the column specified in the GROUP BY clause. As a result of the grouping, there will only be as many rows as there are unique values in that column. Implicitly, this means that you should only need to use this when you have aggregate functions in your query.\n",
        "\n",
        "4. HAVING\n",
        "If the query has a GROUP BY clause, then the constraints in the HAVING clause are then applied to the grouped rows, discard the grouped rows that don't satisfy the constraint. Like the WHERE clause, aliases are also not accessible from this step in most databases.\n",
        "\n",
        "5. SELECT\n",
        "Any expressions in the SELECT part of the query are finally computed.\n",
        "\n",
        "6. DISTINCT\n",
        "Of the remaining rows, rows with duplicate values in the column marked as DISTINCT will be discarded.\n",
        "\n",
        "7. ORDER BY\n",
        "If an order is specified by the ORDER BY clause, the rows are then sorted by the specified data in either ascending or descending order. Since all the expressions in the SELECT part of the query have been computed, you can reference aliases in this clause.\n",
        "\n",
        "8. LIMIT / OFFSET\n",
        "Finally, the rows that fall outside the range specified by the LIMIT and OFFSET are discarded, leaving the final set of rows to be returned from the query.\"\"\""
      ],
      "metadata": {
        "colab": {
          "base_uri": "https://localhost:8080/",
          "height": 278
        },
        "id": "2uTn_UC5ADkl",
        "outputId": "3b1513ad-65f0-4ec3-a024-8f80ff14e342"
      },
      "execution_count": 5,
      "outputs": [
        {
          "output_type": "execute_result",
          "data": {
            "text/plain": [
              "\" Query order of execution\\n1. FROM and JOINs\\nThe FROM clause, and subsequent JOINs are first executed to determine the total working set of data that is being queried. This includes subqueries in this clause, and can cause temporary tables to be created under the hood containing all the columns and rows of the tables being joined.\\n\\n2. WHERE\\nOnce we have the total working set of data, the first-pass WHERE constraints are applied to the individual rows, and rows that do not satisfy the constraint are discarded. Each of the constraints can only access columns directly from the tables requested in the FROM clause. Aliases in the SELECT part of the query are not accessible in most databases since they may include expressions dependent on parts of the query that have not yet executed.\\n\\n3. GROUP BY\\nThe remaining rows after the WHERE constraints are applied are then grouped based on common values in the column specified in the GROUP BY clause. As a result of the grouping, there will only be as many rows as there are unique values in that column. Implicitly, this means that you should only need to use this when you have aggregate functions in your query.\\n\\n4. HAVING\\nIf the query has a GROUP BY clause, then the constraints in the HAVING clause are then applied to the grouped rows, discard the grouped rows that don't satisfy the constraint. Like the WHERE clause, aliases are also not accessible from this step in most databases.\\n\\n5. SELECT\\nAny expressions in the SELECT part of the query are finally computed.\\n\\n6. DISTINCT\\nOf the remaining rows, rows with duplicate values in the column marked as DISTINCT will be discarded.\\n\\n7. ORDER BY\\nIf an order is specified by the ORDER BY clause, the rows are then sorted by the specified data in either ascending or descending order. Since all the expressions in the SELECT part of the query have been computed, you can reference aliases in this clause.\\n\\n8. LIMIT / OFFSET\\nFinally, the rows that fall outside the range specified by the LIMIT and OFFSET are discarded, leaving the final set of rows to be returned from the query.\""
            ],
            "application/vnd.google.colaboratory.intrinsic+json": {
              "type": "string"
            }
          },
          "metadata": {},
          "execution_count": 5
        }
      ]
    }
  ]
}